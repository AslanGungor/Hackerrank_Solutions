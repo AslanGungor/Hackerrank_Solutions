{
 "cells": [
  {
   "cell_type": "code",
   "execution_count": null,
   "metadata": {},
   "outputs": [],
   "source": [
    "x = input().split()\n",
    "a = int(x[0])\n",
    "b = int(x[1])\n",
    "ch = \".|.\"\n",
    "#Üst taraf\n",
    "for i in range((a-1)//2):\n",
    "    print((i*ch).rjust((b-3)//2,\"-\")+ch+(i*ch).ljust((b-3)//2,\"-\"))\n",
    "#Orta taraf\n",
    "print(\"WELCOME\".center(b,\"-\"))\n",
    "#Alt taraf\n",
    "for i in range((a-1)//2):\n",
    "    print(((((a-1)//2)-1-i)*ch).rjust((b-3)//2,\"-\")+ch+((((a-1)//2)-1-i)*ch).ljust((b-3)//2,\"-\"))"
   ]
  },
  {
   "cell_type": "code",
   "execution_count": null,
   "metadata": {},
   "outputs": [],
   "source": []
  }
 ],
 "metadata": {
  "kernelspec": {
   "display_name": "Python 3",
   "language": "python",
   "name": "python3"
  },
  "language_info": {
   "codemirror_mode": {
    "name": "ipython",
    "version": 3
   },
   "file_extension": ".py",
   "mimetype": "text/x-python",
   "name": "python",
   "nbconvert_exporter": "python",
   "pygments_lexer": "ipython3",
   "version": "3.7.4"
  }
 },
 "nbformat": 4,
 "nbformat_minor": 2
}
