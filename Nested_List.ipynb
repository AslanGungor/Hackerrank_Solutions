{
 "cells": [
  {
   "cell_type": "code",
   "execution_count": 255,
   "metadata": {},
   "outputs": [
    {
     "name": "stdout",
     "output_type": "stream",
     "text": [
      "5\n",
      "Harsh\n",
      "20\n",
      "Beria\n",
      "20\n",
      "Varun\n",
      "19\n",
      "Kakunami\n",
      "19\n",
      "Vikas\n",
      "21\n"
     ]
    }
   ],
   "source": [
    "if __name__ == '__main__':\n",
    "    sözlük = {}\n",
    "    for _ in range(int(input())):\n",
    "        name = input()\n",
    "        score = float(input())\n",
    "        sözlük[name] = score   "
   ]
  },
  {
   "cell_type": "code",
   "execution_count": 256,
   "metadata": {},
   "outputs": [
    {
     "name": "stdout",
     "output_type": "stream",
     "text": [
      "Beria\n",
      "Harsh\n"
     ]
    }
   ],
   "source": [
    "import operator\n",
    "sorted_d = sorted(sözlük.items(), key=operator.itemgetter(1))\n",
    "liste_1 = [(value) for value in sorted(sözlük.values())]\n",
    "l_min = min(liste_1)\n",
    "i=0\n",
    "s=[]\n",
    "f=[]\n",
    "for k,v in sorted_d:\n",
    "    if l_min==v:\n",
    "        i+=1\n",
    "    elif len(s)==0 or f[0]==v:\n",
    "        f.append(v)\n",
    "        s.append(k)\n",
    "s=sorted(s)\n",
    "for j in range(len(s)):\n",
    "    print(s[j])   "
   ]
  },
  {
   "cell_type": "code",
   "execution_count": null,
   "metadata": {},
   "outputs": [],
   "source": []
  }
 ],
 "metadata": {
  "kernelspec": {
   "display_name": "Python 3",
   "language": "python",
   "name": "python3"
  },
  "language_info": {
   "codemirror_mode": {
    "name": "ipython",
    "version": 3
   },
   "file_extension": ".py",
   "mimetype": "text/x-python",
   "name": "python",
   "nbconvert_exporter": "python",
   "pygments_lexer": "ipython3",
   "version": "3.7.4"
  }
 },
 "nbformat": 4,
 "nbformat_minor": 2
}
