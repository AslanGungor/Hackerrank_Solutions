{
 "cells": [
  {
   "cell_type": "code",
   "execution_count": 14,
   "metadata": {},
   "outputs": [
    {
     "name": "stdout",
     "output_type": "stream",
     "text": [
      "12\n",
      "insert 0 5\n",
      "insert 1 10\n",
      "insert 0 6\n",
      "print\n",
      "remove 6\n",
      "append 9\n",
      "append 1\n",
      "sort\n",
      "print\n",
      "pop\n",
      "reverse\n",
      "print\n"
     ]
    }
   ],
   "source": [
    "if __name__ == '__main__':\n",
    "    N = int(input())\n",
    "l=[]    \n",
    "for _ in range(N):\n",
    "    l.append(input())\n",
    "    "
   ]
  },
  {
   "cell_type": "code",
   "execution_count": 60,
   "metadata": {},
   "outputs": [],
   "source": [
    "m = l.copy()\n",
    "for i in range(len(m)):\n",
    "    m[i] = m[i].split()"
   ]
  },
  {
   "cell_type": "code",
   "execution_count": 59,
   "metadata": {},
   "outputs": [
    {
     "name": "stdout",
     "output_type": "stream",
     "text": [
      "[6, 5, 10]\n",
      "[1, 5, 9, 10]\n",
      "[9, 5, 1]\n"
     ]
    }
   ],
   "source": [
    "c=[]\n",
    "a=\"\"\n",
    "for i in range(len(m)):\n",
    "    if m[i][0]==\"print\":\n",
    "        a = m[i][0]+\"(\"+\"c\"+\")\"\n",
    "        exec(a)\n",
    "    elif len(m[i])==3:\n",
    "        a = \"c.\"+m[i][0]+\"(\"+m[i][1]+\",\"+m[i][2]+\")\"\n",
    "        exec(a)\n",
    "    elif len(m[i])==2:\n",
    "        a = \"c.\"+m[i][0]+\"(\"+m[i][1]+\")\"\n",
    "        exec(a)\n",
    "    elif len(m[i])==1:\n",
    "        a = \"c.\"+m[i][0]+\"()\"\n",
    "        exec(a)"
   ]
  }
 ],
 "metadata": {
  "kernelspec": {
   "display_name": "Python 3",
   "language": "python",
   "name": "python3"
  },
  "language_info": {
   "codemirror_mode": {
    "name": "ipython",
    "version": 3
   },
   "file_extension": ".py",
   "mimetype": "text/x-python",
   "name": "python",
   "nbconvert_exporter": "python",
   "pygments_lexer": "ipython3",
   "version": "3.7.4"
  }
 },
 "nbformat": 4,
 "nbformat_minor": 2
}
