{
 "cells": [
  {
   "cell_type": "code",
   "execution_count": null,
   "metadata": {},
   "outputs": [],
   "source": [
    "def solve(s):\n",
    "    f = \"\"\n",
    "    k = 0\n",
    "    for i in range(len(s)):\n",
    "        if k==0 and ord(s[i])>96 and ord(s[i])<123:\n",
    "            f = f + chr(int(ord(s[i][0]))-32)\n",
    "            k = 1\n",
    "        elif s[i]!=\" \":\n",
    "            f = f +s[i]\n",
    "            k = 1  \n",
    "        elif s[i]==\" \":\n",
    "            f = f +s[i]\n",
    "            k = 0\n",
    "    return f\n",
    "\n",
    "if __name__ == '__main__':\n",
    "    fptr = open(os.environ['OUTPUT_PATH'], 'w')\n",
    "\n",
    "    s = i\n",
    "    result = solve(s)\n",
    "\n",
    "    fptr.write(result + '\\n')\n",
    "\n",
    "    fptr.close()\n"
   ]
  }
 ],
 "metadata": {
  "kernelspec": {
   "display_name": "Python 3",
   "language": "python",
   "name": "python3"
  },
  "language_info": {
   "codemirror_mode": {
    "name": "ipython",
    "version": 3
   },
   "file_extension": ".py",
   "mimetype": "text/x-python",
   "name": "python",
   "nbconvert_exporter": "python",
   "pygments_lexer": "ipython3",
   "version": "3.7.4"
  }
 },
 "nbformat": 4,
 "nbformat_minor": 2
}
